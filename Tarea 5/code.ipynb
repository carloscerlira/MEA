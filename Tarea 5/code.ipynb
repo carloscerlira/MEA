{
 "nbformat": 4,
 "nbformat_minor": 2,
 "metadata": {
  "language_info": {
   "name": "python",
   "codemirror_mode": {
    "name": "ipython",
    "version": 3
   }
  },
  "orig_nbformat": 2,
  "file_extension": ".py",
  "mimetype": "text/x-python",
  "name": "python",
  "npconvert_exporter": "python",
  "pygments_lexer": "ipython3",
  "version": 3,
  "kernelspec": {
   "name": "python3",
   "display_name": "Python 3"
  }
 },
 "cells": [
  {
   "cell_type": "code",
   "execution_count": 174,
   "metadata": {},
   "outputs": [],
   "source": [
    "import numpy as np\n",
    "import pandas as pd \n",
    "import matplotlib.pyplot as plt \n",
    "%matplotlib qt\n",
    "plt.style.use('default')"
   ]
  },
  {
   "cell_type": "code",
   "execution_count": 252,
   "metadata": {},
   "outputs": [],
   "source": [
    "from mpl_toolkits.mplot3d import Axes3D\n",
    "\n",
    "fig = plt.figure()\n",
    "ax = fig.add_subplot(111, projection='3d')\n",
    "plt.axis('off')\n",
    "\n",
    "u = np.linspace(0, 2*np.pi, 100)\n",
    "v = np.linspace(0, np.pi, 100)\n",
    "\n",
    "def draw_longitude(theta,style='-'):\n",
    "    lon_x = np.cos(theta)*np.sin(v)\n",
    "    lon_y = np.sin(theta)*np.sin(v)\n",
    "    lon_z = np.cos(v)\n",
    "    ax.plot3D(lon_x, lon_y, lon_z, c='gray', linestyle=style)\n",
    "\n",
    "def draw_latitude(phi,style='-'):\n",
    "    lat_x = np.cos(u)*np.sin(phi)\n",
    "    lat_y = np.sin(u)*np.sin(phi)\n",
    "    lat_z = np.full(lat_x.size, np.cos(phi))\n",
    "    ax.plot3D(lat_x, lat_y, lat_z, c='gray', linestyle=style)\n",
    "\n",
    "x = 1*np.outer(np.cos(u), np.sin(v))\n",
    "y = 1*np.outer(np.sin(u), np.sin(v))\n",
    "z = 1*np.outer(np.ones(np.size(u)), np.cos(v))\n",
    "ax.plot_surface(x, y, z,  rstride=4, cstride=4, color='b', linewidth=0, alpha=0.5)\n",
    "\n",
    "u = np.linspace(-1/2*np.pi, 1/2*np.pi, 100)\n",
    "theta = 1/4*np.pi\n",
    "phi = 1/5*np.pi\n",
    "\n",
    "draw_longitude(0)\n",
    "draw_latitude(1/2*np.pi)\n",
    "\n",
    "draw_longitude(-1/4*np.pi)\n",
    "draw_latitude(1/4*np.pi)\n",
    "\n",
    "draw_longitude(theta)\n",
    "draw_latitude(phi)\n",
    "\n",
    "o_1 = (0,0,0)\n",
    "o_2 = (np.cos(theta)*np.sin(phi),np.sin(theta)*np.sin(phi),np.cos(phi))\n",
    "\n",
    "s_1 = (np.cos(theta)*np.cos(phi), np.sin(theta)*np.cos(phi), -np.sin(phi))\n",
    "s_2 = (-np.sin(theta)*np.sin(phi), np.sin(phi)*np.cos(theta), 0)\n",
    "s_3 = (np.sin(phi)*np.cos(theta), np.sin(phi)*np.sin(theta), np.cos(phi))\n",
    "\n",
    "#ax.quiver(o_2[0], o_2[1], o_2[2], 0,0,1, color='purple', length=.5, normalize=True)\n",
    "# ax.quiver(o_1[0], o_1[1], o_1[2], 1,0,0, color='r', length=0.5, normalize=True)\n",
    "# ax.quiver(o_1[0], o_1[1], o_1[2], 0,1,0, color='g', length=0.5, normalize=True)\n",
    "# ax.quiver(o_1[0], o_1[1], o_1[2], 0,0,1, color='b', length=0.5, normalize=True)\n",
    "\n",
    "ax.quiver(o_2[0], o_2[1], o_2[2], s_1[0], s_1[1], s_1[2], color='r', length=0.5, normalize=True)\n",
    "ax.quiver(o_2[0], o_2[1], o_2[2], s_2[0], s_2[1], s_2[2], color='g', length=0.5, normalize = True)\n",
    "ax.quiver(o_2[0], o_2[1], o_2[2], s_3[0], s_3[1], s_3[2], color='b', length=0.5, normalize = True)\n",
    "\n",
    "# theta = np.pi/3\n",
    "# ax.quiver(0,0,0,1, color='purple', angles='xy', scale_units='xy', scale=1)\n",
    "# ax.quiver(0,0,np.cos(theta),np.sin(theta), color='b', angles='xy', scale_units='xy', scale=1)\n",
    "# ax.quiver(0,0,np.sin(theta),-np.cos(theta), color='r', angles='xy', scale_units='xy', scale=1)\n",
    "plt.subplots_adjust(left=0, bottom=0, right=1, top=1, wspace=0, hspace=0)\n",
    "plt.show()\n"
   ]
  },
  {
   "cell_type": "code",
   "execution_count": null,
   "metadata": {},
   "outputs": [],
   "source": []
  }
 ]
}